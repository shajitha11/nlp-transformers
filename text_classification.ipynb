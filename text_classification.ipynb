{
 "cells": [
  {
   "cell_type": "code",
   "execution_count": null,
   "metadata": {
    "id": "p7ks5qLaQFWr"
   },
   "outputs": [],
   "source": [
    "!pip install transformers\n",
    "!pip install torch"
   ]
  },
  {
   "cell_type": "code",
   "execution_count": 2,
   "metadata": {
    "id": "QS9NxeteQoel"
   },
   "outputs": [],
   "source": [
    "from transformers import pipeline"
   ]
  },
  {
   "cell_type": "code",
   "execution_count": 3,
   "metadata": {
    "colab": {
     "base_uri": "https://localhost:8080/",
     "height": 382,
     "referenced_widgets": [
      "2975345d609c4a92a1e606ef0264c8bc",
      "f5d87a4e6d314fca9a29ed3551c474da",
      "abed515b48ea45578876094fec006f77",
      "8ee89bd298494aada4d53a4f6a1ca7f5",
      "70ad11df919244f6920ef3938de00787",
      "ef9c13e24b45406194f42a556fdc9060",
      "b77178b76a8b4cd8b800e7b1fffa1d47",
      "a44ee18579c1475fa11a8990bdfeb5bd",
      "4e6795a2a6cf44ed97f41b1bcbe705ad",
      "854ff7c128734959932e1712ab0f0054",
      "d244df4aead14d769f0a00f295a5e4a1",
      "e1946be127314e73b7991f84bb33bbb9",
      "69300b9b0ebf4d3a80f5971c278f2a5d",
      "f5f08a8ae6cf4847bb20c397aef64cf2",
      "3707c741f4f64675b982ffa02474ace2",
      "0e66f8259be24cda943a0cf2489a0fd0",
      "f4990df6a20c496380012eca1496a033",
      "e94ac3e0c5f44cacbb9145510925bafc",
      "a0bea4364cb14c25917946514db4b92b",
      "95a073b3ec72409ebac50ee2e441da02",
      "b67663354a794c449c7085a68bdf3bc0",
      "ae244206e0d54497ae1eb61f5d8a9a03",
      "90fbaab7709c4580957816981cc8c1f6",
      "5c50d9839a9e44efa245cf185e77c98d",
      "5ce62f3705094f8a9191503cf57bf83a",
      "0d3f90355ca84e8a8c10c46c9fbca8ec",
      "72267ef0309a4fb58a83b282ca75ba22",
      "b6985a2e5f9642f587157914f11b9bd9",
      "0721d883f8444e96bce625c28ed80090",
      "dd4fdf1107a748fd9e9e78f06ac7ff57",
      "b04c402e874d4143a81b04c114b91c30",
      "51340f24da3c4ec7a9c52abff3bc463f",
      "5dba80f2cfaa4a09bdc13db9adbbbd8a",
      "f10783c0ee334b38ad29f7169ae9bdb3",
      "65c5385c556946b0a8e6cb6ca65fe38f",
      "5f113d401048473c878d4d3d5d12d6fd",
      "6bfda4f88dac4173921788486de688a5",
      "80cecaf4e825418b831ad1d7e9bb3b3b",
      "8304790cbdeb424686548f0bb86c75b1",
      "249acab5fbdf4a4990c9aabdeca134e9",
      "954ef01b855842fe9552a881a796514d",
      "09114b3f79074e8898e0f25a2f8d32e6",
      "040abe5377c64fa78cbf211c20fe4f79",
      "59d5182ff4c84cf8b013afcdfae636cf",
      "c720be7399e6458688a3577c84275b15",
      "bd4b7cb2730241b4a641943c64e648f0",
      "ab50720acd374571a9727dbfc290fb7d",
      "1d94ce164eaf4773b3cf857895060b23",
      "fedeff71260d4c5a87a1c427ec8f2fc9",
      "a5d3c914277f4dfa984536b586c4d6b1",
      "20de09842fc64d8cb5f75ed451d85cd2",
      "e1e67da9b4e24ab198bb5b30912c349e",
      "f385dfde27ae42e797730f96b6daacc8",
      "db8a622bfe8142c1998281a97a77f4d5",
      "9ee6af08c4544a55936399ad98ae6171",
      "7c63f9cd0a914fecae25ad45c26ce17b",
      "5933fc4b58f14ee3872349b7f0de13b0",
      "270d99ef521f421094065404276e89c3",
      "3f488fffc8ba4437be4fd8cfde22f8d3",
      "2246873af4594a7ea2157d6c337aa49a",
      "ab04028552564e579fa38f6b84e1b8ed",
      "1d0fbcea20b94f8c9b6ec338a14bb21c",
      "f1410cd81828438b9bd2f26234541372",
      "9e7d0e15a75146b9a671f0ba5787d6ed",
      "1f6c47c76f4248fb8a2951c240ed3d34",
      "866a9c4bee9f4a679d18ade1073a8d96",
      "b8eee8c2f15b46b19d2acd26ba2195b5",
      "276dcce74bc449cda91dd25c34e385ac",
      "ad679f947f4d4d749e87a80fe8421648",
      "72f6b1daacd140dab3ec6bff54451c36",
      "7798dae8fc6142cfafc249f94ae267e6",
      "e3cad74fb1524e13880708957a688435",
      "dfda3ee5836b4a8b9c345e26a7507646",
      "d37f60da26fb45a7a993c0ad50ef5e91",
      "056d4d618e3f4d0b9c033760b904caf2",
      "86c4405c9db740f4a65b6e12a4d0154f",
      "83cb70bb823b4146b0a61ee2f1ff84b3"
     ]
    },
    "id": "xOdSJxqOQ9WW",
    "outputId": "59ff6741-58fd-411b-8e11-d32d75f6109c"
   },
   "outputs": [
    {
     "name": "stderr",
     "output_type": "stream",
     "text": [
      "/usr/local/lib/python3.12/dist-packages/huggingface_hub/utils/_auth.py:94: UserWarning: \n",
      "The secret `HF_TOKEN` does not exist in your Colab secrets.\n",
      "To authenticate with the Hugging Face Hub, create a token in your settings tab (https://huggingface.co/settings/tokens), set it as secret in your Google Colab and restart your session.\n",
      "You will be able to reuse this secret in all of your notebooks.\n",
      "Please note that authentication is recommended but still optional to access public models or datasets.\n",
      "  warnings.warn(\n"
     ]
    },
    {
     "data": {
      "application/vnd.jupyter.widget-view+json": {
       "model_id": "2975345d609c4a92a1e606ef0264c8bc",
       "version_major": 2,
       "version_minor": 0
      },
      "text/plain": [
       "config.json:   0%|          | 0.00/814 [00:00<?, ?B/s]"
      ]
     },
     "metadata": {},
     "output_type": "display_data"
    },
    {
     "data": {
      "application/vnd.jupyter.widget-view+json": {
       "model_id": "e1946be127314e73b7991f84bb33bbb9",
       "version_major": 2,
       "version_minor": 0
      },
      "text/plain": [
       "pytorch_model.bin:   0%|          | 0.00/541M [00:00<?, ?B/s]"
      ]
     },
     "metadata": {},
     "output_type": "display_data"
    },
    {
     "data": {
      "application/vnd.jupyter.widget-view+json": {
       "model_id": "90fbaab7709c4580957816981cc8c1f6",
       "version_major": 2,
       "version_minor": 0
      },
      "text/plain": [
       "tokenizer_config.json:   0%|          | 0.00/345 [00:00<?, ?B/s]"
      ]
     },
     "metadata": {},
     "output_type": "display_data"
    },
    {
     "data": {
      "application/vnd.jupyter.widget-view+json": {
       "model_id": "f10783c0ee334b38ad29f7169ae9bdb3",
       "version_major": 2,
       "version_minor": 0
      },
      "text/plain": [
       "vocab.txt: 0.00B [00:00, ?B/s]"
      ]
     },
     "metadata": {},
     "output_type": "display_data"
    },
    {
     "data": {
      "application/vnd.jupyter.widget-view+json": {
       "model_id": "c720be7399e6458688a3577c84275b15",
       "version_major": 2,
       "version_minor": 0
      },
      "text/plain": [
       "model.safetensors:   0%|          | 0.00/541M [00:00<?, ?B/s]"
      ]
     },
     "metadata": {},
     "output_type": "display_data"
    },
    {
     "data": {
      "application/vnd.jupyter.widget-view+json": {
       "model_id": "7c63f9cd0a914fecae25ad45c26ce17b",
       "version_major": 2,
       "version_minor": 0
      },
      "text/plain": [
       "tokenizer.json: 0.00B [00:00, ?B/s]"
      ]
     },
     "metadata": {},
     "output_type": "display_data"
    },
    {
     "data": {
      "application/vnd.jupyter.widget-view+json": {
       "model_id": "b8eee8c2f15b46b19d2acd26ba2195b5",
       "version_major": 2,
       "version_minor": 0
      },
      "text/plain": [
       "special_tokens_map.json:   0%|          | 0.00/112 [00:00<?, ?B/s]"
      ]
     },
     "metadata": {},
     "output_type": "display_data"
    },
    {
     "name": "stderr",
     "output_type": "stream",
     "text": [
      "Device set to use cuda:0\n"
     ]
    }
   ],
   "source": [
    "#loading the spam detection pipeline\n",
    "\n",
    "spam_classifier=pipeline(\"text-classification\",model=\"philschmid/distilbert-base-multilingual-cased-sentiment\")"
   ]
  },
  {
   "cell_type": "code",
   "execution_count": 5,
   "metadata": {
    "colab": {
     "base_uri": "https://localhost:8080/"
    },
    "id": "SrJzfu6dRojL",
    "outputId": "0d1aa8e6-4b27-4e1c-f53d-5616e2876b77"
   },
   "outputs": [
    {
     "name": "stdout",
     "output_type": "stream",
     "text": [
      "label:SPAM,Confidence:0.9946\n",
      "label:NOT SPAM,Confidence:0.9806\n",
      "label:NOT SPAM,Confidence:0.3586\n",
      "label:SPAM,Confidence:0.8027\n",
      "label:SPAM,Confidence:0.5529\n"
     ]
    }
   ],
   "source": [
    "texts=[\n",
    "    \"Congratulations! You won a free lottery ticket. Click here to claim your prize.\",\n",
    "    \"Get 70% OFF on all electronics. Limited time offer, buy now!\",\n",
    "    \"Please find the attached report for this week's project update.\",\n",
    "    \"URGENT: Your bank account has been locked. Verify your details immediately.\",\n",
    "    \"Hey, are we still meeting for lunch tomorrow at 1 PM?\"\n",
    "]\n",
    "\n",
    "results=spam_classifier(texts)\n",
    "\n",
    "label_mapping={'negative':'SPAM','positive':'NOT SPAM','neutral':'NOT SPAM'}\n",
    "\n",
    "for result in results:\n",
    "  label=label_mapping[result['label']]\n",
    "  score=result['score']\n",
    "  print(f\"label:{label},Confidence:{score:.4f}\")"
   ]
  }
 ],
 "metadata": {
  "colab": {
   "provenance": []
  },
  "kernelspec": {
   "display_name": "Python 3",
   "name": "python3"
  },
  "language_info": {
   "name": "python"
  }
 },
 "nbformat": 4,
 "nbformat_minor": 0
}
