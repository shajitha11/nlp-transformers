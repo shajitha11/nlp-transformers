{
  "nbformat": 4,
  "nbformat_minor": 0,
  "metadata": {
    "colab": {
      "provenance": []
    },
    "kernelspec": {
      "name": "python3",
      "display_name": "Python 3"
    },
    "language_info": {
      "name": "python"
    }
  },
  "cells": [
    {
      "cell_type": "code",
      "execution_count": null,
      "metadata": {
        "id": "GvTzQCxc9PEA"
      },
      "outputs": [],
      "source": [
        "!pip install transformers"
      ]
    },
    {
      "cell_type": "code",
      "source": [
        "from transformers import pipeline"
      ],
      "metadata": {
        "id": "_XCLIVMk9k6S"
      },
      "execution_count": 2,
      "outputs": []
    },
    {
      "cell_type": "code",
      "source": [
        "generator=pipeline(\"text-generation\",model=\"gpt2\")\n",
        "\n",
        "result=generator(\"Transformer in NLP is the\",max_length=50,num_return_sequences=1,truncation=True)\n",
        "\n",
        "print(result[0]['generated_text'])"
      ],
      "metadata": {
        "colab": {
          "base_uri": "https://localhost:8080/"
        },
        "id": "ym9Utqx49lFr",
        "outputId": "c26f9f85-eaa0-4360-c405-85279818ff14"
      },
      "execution_count": 8,
      "outputs": [
        {
          "output_type": "stream",
          "name": "stderr",
          "text": [
            "Device set to use cpu\n",
            "Setting `pad_token_id` to `eos_token_id`:50256 for open-end generation.\n",
            "Both `max_new_tokens` (=256) and `max_length`(=50) seem to have been set. `max_new_tokens` will take precedence. Please refer to the documentation for more information. (https://huggingface.co/docs/transformers/main/en/main_classes/text_generation)\n"
          ]
        },
        {
          "output_type": "stream",
          "name": "stdout",
          "text": [
            "Transformer in NLP is the same as NLP in a different way. You can connect a transformer to an NLP file by using the NLP command line option. This is what you'll need for the first time to run the transformer and the NLP output:\n",
            "\n",
            "$ nlp nlp-mov-transformer\n",
            "\n",
            "See also\n"
          ]
        }
      ]
    },
    {
      "cell_type": "code",
      "source": [
        "result2=generator(\"once upon a time\",max_length=30,num_return_sequences=1)\n",
        "print(result2[0],['generated_text'])"
      ],
      "metadata": {
        "colab": {
          "base_uri": "https://localhost:8080/"
        },
        "id": "F-ZZ9sa79lRI",
        "outputId": "0453ffcc-799c-431d-ad85-162165e264ce"
      },
      "execution_count": 6,
      "outputs": [
        {
          "output_type": "stream",
          "name": "stderr",
          "text": [
            "Setting `pad_token_id` to `eos_token_id`:50256 for open-end generation.\n",
            "Both `max_new_tokens` (=256) and `max_length`(=30) seem to have been set. `max_new_tokens` will take precedence. Please refer to the documentation for more information. (https://huggingface.co/docs/transformers/main/en/main_classes/text_generation)\n"
          ]
        },
        {
          "output_type": "stream",
          "name": "stdout",
          "text": [
            "{'generated_text': 'once upon a time.\"\\n\\nThe company also added, \"We\\'re confident that the government will not tolerate any misuse of its authority.\"\\n\\nThe decision to allow an injunction for the lawsuit against a California-based company comes amid a row with the Obama administration over its use of drone strikes in Yemen. The administration has denied that it is using these attacks.\\n\\n\"We are committed to working with the government of Yemen to ensure that the United States does not employ these weapons,\" the White House said in a statement. \"We are also committed to the principle that lawful use of force is consistent with international law, and that the use of force is justified in the interests of peace and security.\"\\n\\nThe lawsuit, filed in California Superior Court in September, accused the Saudi Arabian government of using a drone to kill people, including civilians, in Yemen for a variety of reasons, including the presence of weapons that were \"extremely dangerous to civilians.\"'} ['generated_text']\n"
          ]
        }
      ]
    }
  ]
}