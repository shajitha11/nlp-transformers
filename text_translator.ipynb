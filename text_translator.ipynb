{
  "nbformat": 4,
  "nbformat_minor": 0,
  "metadata": {
    "colab": {
      "provenance": []
    },
    "kernelspec": {
      "name": "python3",
      "display_name": "Python 3"
    },
    "language_info": {
      "name": "python"
    }
  },
  "cells": [
    {
      "cell_type": "code",
      "execution_count": null,
      "metadata": {
        "id": "S9PYUroAyxzU"
      },
      "outputs": [],
      "source": [
        "!pip install transformers"
      ]
    },
    {
      "cell_type": "code",
      "source": [
        "from transformers import pipeline"
      ],
      "metadata": {
        "id": "GeodFl7ezA7q"
      },
      "execution_count": 2,
      "outputs": []
    },
    {
      "cell_type": "code",
      "source": [
        "from transformers import AutoTokenizer,AutoModelForSeq2SeqLM\n",
        "\n",
        "# Model: Helsinki-NLP/opus-mt-en-fr (English to French translation)\n",
        "model_name=\"Helsinki-NLP/opus-mt-en-fr\"\n",
        "tokenizer=AutoTokenizer.from_pretrained(model_name)\n",
        "model=AutoModelForSeq2SeqLM.from_pretrained(model_name)\n",
        "\n",
        "\n",
        "text_to_translate=\"hi,how are you today?\"\n",
        "\n",
        "inputs=tokenizer(text_to_translate,return_tensors=\"pt\")\n",
        "translated_tokens=model.generate(**inputs)\n",
        "translated_text=tokenizer.decode(translated_tokens[0],skip_special_tokens=True)\n",
        "print(\"Original Text:\", text_to_translate)\n",
        "print(\"Translated Text:\", translated_text)\n"
      ],
      "metadata": {
        "colab": {
          "base_uri": "https://localhost:8080/"
        },
        "id": "ryDVShNdzBFB",
        "outputId": "b87d99b1-181d-453f-fd97-4ad0cf64cb28"
      },
      "execution_count": 6,
      "outputs": [
        {
          "output_type": "stream",
          "name": "stderr",
          "text": [
            "/usr/local/lib/python3.12/dist-packages/transformers/models/marian/tokenization_marian.py:175: UserWarning: Recommended: pip install sacremoses.\n",
            "  warnings.warn(\"Recommended: pip install sacremoses.\")\n"
          ]
        },
        {
          "output_type": "stream",
          "name": "stdout",
          "text": [
            "Original Text: hi,how are you today?\n",
            "Translated Text: Bonjour, comment allez-vous aujourd'hui ?\n"
          ]
        }
      ]
    }
  ]
}