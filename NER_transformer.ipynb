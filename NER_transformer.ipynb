{
  "nbformat": 4,
  "nbformat_minor": 0,
  "metadata": {
    "colab": {
      "provenance": []
    },
    "kernelspec": {
      "name": "python3",
      "display_name": "Python 3"
    },
    "language_info": {
      "name": "python"
    }
  },
  "cells": [
    {
      "cell_type": "code",
      "execution_count": null,
      "metadata": {
        "id": "U_yPMdYBBZ0i"
      },
      "outputs": [],
      "source": [
        "!pip install transformers"
      ]
    },
    {
      "cell_type": "code",
      "source": [
        "from transformers import pipeline"
      ],
      "metadata": {
        "id": "ujzqdVPEBlf-"
      },
      "execution_count": 2,
      "outputs": []
    },
    {
      "cell_type": "code",
      "source": [
        "ner=pipeline(\"ner\",aggregation_strategy=\"simple\")\n",
        "\n",
        "text=\"Ajith Kumar Subramaniam is an Indian actor who works predominantly in Tamil cinema. To date, he has starred in over 63 films, and won four Vijay Awards, three Cinema Express Awards, three Filmfare Awards South and three Tamil Nadu State Film Awards.\"\n",
        "\n",
        "entities=ner(text)\n",
        "\n",
        "for ent in entities:\n",
        "  print(f\"Entity:{ent['word']}|Type:{ent['entity_group']}|confidence:{ent['score']:.2f}\")"
      ],
      "metadata": {
        "colab": {
          "base_uri": "https://localhost:8080/"
        },
        "id": "F54DMClFBy6Z",
        "outputId": "3139b8d0-468c-4219-f411-92304b856e18"
      },
      "execution_count": 4,
      "outputs": [
        {
          "output_type": "stream",
          "name": "stderr",
          "text": [
            "No model was supplied, defaulted to dbmdz/bert-large-cased-finetuned-conll03-english and revision 4c53496 (https://huggingface.co/dbmdz/bert-large-cased-finetuned-conll03-english).\n",
            "Using a pipeline without specifying a model name and revision in production is not recommended.\n",
            "Some weights of the model checkpoint at dbmdz/bert-large-cased-finetuned-conll03-english were not used when initializing BertForTokenClassification: ['bert.pooler.dense.bias', 'bert.pooler.dense.weight']\n",
            "- This IS expected if you are initializing BertForTokenClassification from the checkpoint of a model trained on another task or with another architecture (e.g. initializing a BertForSequenceClassification model from a BertForPreTraining model).\n",
            "- This IS NOT expected if you are initializing BertForTokenClassification from the checkpoint of a model that you expect to be exactly identical (initializing a BertForSequenceClassification model from a BertForSequenceClassification model).\n",
            "Device set to use cpu\n"
          ]
        },
        {
          "output_type": "stream",
          "name": "stdout",
          "text": [
            "Entity:Ajith Kumar Subramaniam|Type:PER|confidence:0.99\n",
            "Entity:Indian|Type:MISC|confidence:1.00\n",
            "Entity:Tamil|Type:MISC|confidence:1.00\n",
            "Entity:Vijay Awards|Type:MISC|confidence:0.98\n",
            "Entity:Cinema Express Awards|Type:MISC|confidence:0.95\n",
            "Entity:Filmfare Awards South|Type:MISC|confidence:0.98\n",
            "Entity:Tamil Nadu State Film Awards|Type:MISC|confidence:0.83\n"
          ]
        }
      ]
    },
    {
      "cell_type": "code",
      "source": [
        "texts=\"Apple Inc. was founded in Cupertino, California, in 1976 by Steve Jobs, Steve Wozniak, and Ronald Wayne. Today, Apple’s headquarters are located in Apple Park, a futuristic campus in Cupertino. The company is known for its products such as the iPhone, iPad, and MacBook, and it competes with companies like Samsung, Microsoft, and Google. Tim Cook is the current CEO of Apple.\"\n",
        "\n",
        "entity2=ner(texts)\n",
        "\n",
        "for ent in entity2:\n",
        "  print(f\"entity:{ent['word']}|type:{ent['entity_group']}|score:{ent['score']}\")\n"
      ],
      "metadata": {
        "colab": {
          "base_uri": "https://localhost:8080/"
        },
        "id": "Zg3VGfAZE1kQ",
        "outputId": "7f049d04-d7d2-4b85-f19a-2508c442aaee"
      },
      "execution_count": 6,
      "outputs": [
        {
          "output_type": "stream",
          "name": "stdout",
          "text": [
            "entity:Apple Inc|type:ORG|score:0.9995136260986328\n",
            "entity:Cupertino|type:LOC|score:0.9877168536186218\n",
            "entity:California|type:LOC|score:0.9989388585090637\n",
            "entity:Steve Jobs|type:PER|score:0.9965766072273254\n",
            "entity:Steve Wozniak|type:PER|score:0.9451624751091003\n",
            "entity:Ronald Wayne|type:PER|score:0.9994316697120667\n",
            "entity:Apple|type:ORG|score:0.9991717338562012\n",
            "entity:Apple Park|type:LOC|score:0.9226375818252563\n",
            "entity:Cupertino|type:LOC|score:0.9886746406555176\n",
            "entity:iPhone|type:MISC|score:0.9950140118598938\n",
            "entity:iPad|type:MISC|score:0.9897699356079102\n",
            "entity:MacBook|type:MISC|score:0.9836816191673279\n",
            "entity:Samsung|type:ORG|score:0.9981212019920349\n",
            "entity:Microsoft|type:ORG|score:0.999180257320404\n",
            "entity:Google|type:ORG|score:0.998309850692749\n",
            "entity:Tim Cook|type:PER|score:0.9997687339782715\n",
            "entity:Apple|type:ORG|score:0.9987269043922424\n"
          ]
        }
      ]
    }
  ]
}